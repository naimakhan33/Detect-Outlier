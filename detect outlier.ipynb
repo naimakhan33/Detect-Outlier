{
 "cells": [
  {
   "cell_type": "code",
   "execution_count": null,
   "id": "9d6386f8",
   "metadata": {},
   "outputs": [
    {
     "name": "stdout",
     "output_type": "stream",
     "text": [
      "  Loan_ID  Gender Married Dependents     Education Self_Employed  \\\n",
      "0   LP001    Male     Yes          0      Graduate            No   \n",
      "1   LP002  Female      No          1  Not Graduate           NaN   \n",
      "2   LP003     NaN     Yes          2      Graduate           Yes   \n",
      "\n",
      "   ApplicantIncome  CoapplicantIncome  LoanAmount  Loan_Amount_Term  \\\n",
      "0           5849.0                0.0         NaN             360.0   \n",
      "1           4583.0             1508.0       128.0             360.0   \n",
      "2           3000.0                0.0        66.0               NaN   \n",
      "\n",
      "   Credit_History Property_Area Loan_Status  \n",
      "0             1.0         Urban           Y  \n",
      "1             0.0         Rural           N  \n",
      "2             1.0     Semiurban           Y  \n"
     ]
    }
   ],
   "source": [
    "import pandas as pd\n",
    "import seaborn as sns\n",
    "import matplotlib.pyplot as plt\n",
    "\n",
    "dataset = pd.read_csv(r\"C:\\Users\\Ahsan\\Downloads\\loan_data_with_missing_values.csv\")\n",
    "print(dataset.head(3))\n"
   ]
  },
  {
   "cell_type": "code",
   "execution_count": 4,
   "id": "e658c3a9",
   "metadata": {},
   "outputs": [
    {
     "name": "stdout",
     "output_type": "stream",
     "text": [
      "<class 'pandas.core.frame.DataFrame'>\n",
      "RangeIndex: 5 entries, 0 to 4\n",
      "Data columns (total 13 columns):\n",
      " #   Column             Non-Null Count  Dtype  \n",
      "---  ------             --------------  -----  \n",
      " 0   Loan_ID            5 non-null      object \n",
      " 1   Gender             4 non-null      object \n",
      " 2   Married            4 non-null      object \n",
      " 3   Dependents         4 non-null      object \n",
      " 4   Education          5 non-null      object \n",
      " 5   Self_Employed      4 non-null      object \n",
      " 6   ApplicantIncome    4 non-null      float64\n",
      " 7   CoapplicantIncome  4 non-null      float64\n",
      " 8   LoanAmount         4 non-null      float64\n",
      " 9   Loan_Amount_Term   4 non-null      float64\n",
      " 10  Credit_History     4 non-null      float64\n",
      " 11  Property_Area      4 non-null      object \n",
      " 12  Loan_Status        5 non-null      object \n",
      "dtypes: float64(5), object(8)\n",
      "memory usage: 652.0+ bytes\n"
     ]
    }
   ],
   "source": [
    "dataset.info()"
   ]
  },
  {
   "cell_type": "code",
   "execution_count": 5,
   "id": "4813ad56",
   "metadata": {},
   "outputs": [
    {
     "data": {
      "text/html": [
       "<div>\n",
       "<style scoped>\n",
       "    .dataframe tbody tr th:only-of-type {\n",
       "        vertical-align: middle;\n",
       "    }\n",
       "\n",
       "    .dataframe tbody tr th {\n",
       "        vertical-align: top;\n",
       "    }\n",
       "\n",
       "    .dataframe thead th {\n",
       "        text-align: right;\n",
       "    }\n",
       "</style>\n",
       "<table border=\"1\" class=\"dataframe\">\n",
       "  <thead>\n",
       "    <tr style=\"text-align: right;\">\n",
       "      <th></th>\n",
       "      <th>ApplicantIncome</th>\n",
       "      <th>CoapplicantIncome</th>\n",
       "      <th>LoanAmount</th>\n",
       "      <th>Loan_Amount_Term</th>\n",
       "      <th>Credit_History</th>\n",
       "    </tr>\n",
       "  </thead>\n",
       "  <tbody>\n",
       "    <tr>\n",
       "      <th>count</th>\n",
       "      <td>4.000000</td>\n",
       "      <td>4.000000</td>\n",
       "      <td>4.000000</td>\n",
       "      <td>4.0</td>\n",
       "      <td>4.00</td>\n",
       "    </tr>\n",
       "    <tr>\n",
       "      <th>mean</th>\n",
       "      <td>4858.000000</td>\n",
       "      <td>877.000000</td>\n",
       "      <td>113.750000</td>\n",
       "      <td>315.0</td>\n",
       "      <td>0.75</td>\n",
       "    </tr>\n",
       "    <tr>\n",
       "      <th>std</th>\n",
       "      <td>1392.124755</td>\n",
       "      <td>1032.399793</td>\n",
       "      <td>32.988634</td>\n",
       "      <td>90.0</td>\n",
       "      <td>0.50</td>\n",
       "    </tr>\n",
       "    <tr>\n",
       "      <th>min</th>\n",
       "      <td>3000.000000</td>\n",
       "      <td>0.000000</td>\n",
       "      <td>66.000000</td>\n",
       "      <td>180.0</td>\n",
       "      <td>0.00</td>\n",
       "    </tr>\n",
       "    <tr>\n",
       "      <th>25%</th>\n",
       "      <td>4187.250000</td>\n",
       "      <td>0.000000</td>\n",
       "      <td>106.500000</td>\n",
       "      <td>315.0</td>\n",
       "      <td>0.75</td>\n",
       "    </tr>\n",
       "    <tr>\n",
       "      <th>50%</th>\n",
       "      <td>5216.000000</td>\n",
       "      <td>754.000000</td>\n",
       "      <td>124.000000</td>\n",
       "      <td>360.0</td>\n",
       "      <td>1.00</td>\n",
       "    </tr>\n",
       "    <tr>\n",
       "      <th>75%</th>\n",
       "      <td>5886.750000</td>\n",
       "      <td>1631.000000</td>\n",
       "      <td>131.250000</td>\n",
       "      <td>360.0</td>\n",
       "      <td>1.00</td>\n",
       "    </tr>\n",
       "    <tr>\n",
       "      <th>max</th>\n",
       "      <td>6000.000000</td>\n",
       "      <td>2000.000000</td>\n",
       "      <td>141.000000</td>\n",
       "      <td>360.0</td>\n",
       "      <td>1.00</td>\n",
       "    </tr>\n",
       "  </tbody>\n",
       "</table>\n",
       "</div>"
      ],
      "text/plain": [
       "       ApplicantIncome  CoapplicantIncome  LoanAmount  Loan_Amount_Term  \\\n",
       "count         4.000000           4.000000    4.000000               4.0   \n",
       "mean       4858.000000         877.000000  113.750000             315.0   \n",
       "std        1392.124755        1032.399793   32.988634              90.0   \n",
       "min        3000.000000           0.000000   66.000000             180.0   \n",
       "25%        4187.250000           0.000000  106.500000             315.0   \n",
       "50%        5216.000000         754.000000  124.000000             360.0   \n",
       "75%        5886.750000        1631.000000  131.250000             360.0   \n",
       "max        6000.000000        2000.000000  141.000000             360.0   \n",
       "\n",
       "       Credit_History  \n",
       "count            4.00  \n",
       "mean             0.75  \n",
       "std              0.50  \n",
       "min              0.00  \n",
       "25%              0.75  \n",
       "50%              1.00  \n",
       "75%              1.00  \n",
       "max              1.00  "
      ]
     },
     "execution_count": 5,
     "metadata": {},
     "output_type": "execute_result"
    }
   ],
   "source": [
    "dataset.describe()"
   ]
  },
  {
   "cell_type": "code",
   "execution_count": 6,
   "id": "3abd54ea",
   "metadata": {},
   "outputs": [
    {
     "data": {
      "image/png": "[encoded data removed]",
      "text/plain": [
       "<Figure size 640x480 with 1 Axes>"
      ]
     },
     "metadata": {},
     "output_type": "display_data"
    }
   ],
   "source": [
    "sns.boxplot(x=\"CoapplicantIncome\",data=dataset)\n",
    "plt.show()"
   ]
  },
  {
   "cell_type": "code",
   "execution_count": 7,
   "id": "0f90ff86",
   "metadata": {},
   "outputs": [
    {
     "data": {
      "image/png": "[encoded data removed]",
      "text/plain": [
       "<Figure size 640x480 with 1 Axes>"
      ]
     },
     "metadata": {},
     "output_type": "display_data"
    }
   ],
   "source": [
    "sns.boxplot(x=\"ApplicantIncome\",data=dataset)\n",
    "plt.show()"
   ]
  }
 ],
 "metadata": {
  "kernelspec": {
   "display_name": "Python 3",
   "language": "python",
   "name": "python3"
  },
  "language_info": {
   "codemirror_mode": {
    "name": "ipython",
    "version": 3
   },
   "file_extension": ".py",
   "mimetype": "text/x-python",
   "name": "python",
   "nbconvert_exporter": "python",
   "pygments_lexer": "ipython3",
   "version": "3.13.3"
  }
 },
 "nbformat": 4,
 "nbformat_minor": 5
}
